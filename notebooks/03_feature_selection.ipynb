{
 "cells": [
  {
   "cell_type": "code",
   "execution_count": 1,
   "id": "b5affb63-5059-4d7a-b5ab-3e3d5cd9ed31",
   "metadata": {},
   "outputs": [],
   "source": [
    "import numpy as np\n",
    "import pandas as pd\n",
    "from sklearn.preprocessing import StandardScaler, MinMaxScaler\n",
    "from sklearn.decomposition import PCA\n",
    "import matplotlib.pyplot as plt\n",
    "from xgboost import XGBClassifier\n",
    "from sklearn.feature_selection import RFE\n",
    "from sklearn.feature_selection import SelectKBest\n",
    "from sklearn.feature_selection import chi2\n",
    "from collections import Counter\n",
    "import warnings\n",
    "warnings.filterwarnings(\"ignore\")"
   ]
  },
  {
   "cell_type": "code",
   "execution_count": 2,
   "id": "b9c9feeb-7238-4deb-be26-fed712c5ae02",
   "metadata": {},
   "outputs": [],
   "source": [
    "%%capture\n",
    "%run  \"C:\\Users\\Lenovo\\Desktop\\Heart_Disease_Project_SPRINTSXMICROSOFT\\notebooks\\01_data_preprocessing.ipynb\""
   ]
  },
  {
   "cell_type": "code",
   "execution_count": 3,
   "id": "8dcd4a72-e5a6-4c90-9bbd-46f53d44511f",
   "metadata": {},
   "outputs": [
    {
     "name": "stdout",
     "output_type": "stream",
     "text": [
      "Selected 11 Features by importance scores: ['thal', 'cp', 'ca', 'sex', 'slope', 'oldpeak', 'fbs', 'thalach', 'exang', 'age', 'trestbps']\n"
     ]
    }
   ],
   "source": [
    "# 1. Use XGBoost feature importance scores to rank variables.\n",
    "\n",
    "xgmodel=XGBClassifier()\n",
    "xgmodel.fit(X_cleaned,y_cleaned)\n",
    "\n",
    "importances=pd.DataFrame({\n",
    "    'Feature':X_cleaned.columns,\n",
    "    'Importances':xgmodel.feature_importances_\n",
    "})\n",
    "importances=importances.sort_values(by ='Importances',ascending =False)\n",
    "\n",
    "# keep N top features -> N is chosen to be 9 <-\n",
    "selected_features_impScores = importances['Feature'].head(11).tolist()\n",
    "print(f\"Selected 11 Features by importance scores: {list(selected_features_impScores)}\")"
   ]
  },
  {
   "cell_type": "code",
   "execution_count": 4,
   "id": "0cf822d9-0ab4-4be3-b8dd-88752e68dd11",
   "metadata": {},
   "outputs": [
    {
     "name": "stdout",
     "output_type": "stream",
     "text": [
      "Selected 13 Features by RFE: ['age', 'sex', 'cp', 'trestbps', 'chol', 'fbs', 'restecg', 'thalach', 'exang', 'oldpeak', 'slope', 'ca', 'thal']\n"
     ]
    }
   ],
   "source": [
    "# 2. Apply Recursive Feature Elimination (RFE) to select the best predictors.\n",
    "rfe = RFE(n_features_to_select=111,estimator=XGBClassifier())\n",
    "rfe.fit(X_cleaned,y_cleaned)\n",
    "\n",
    "# Get selected features\n",
    "selected_features_RFE = X_cleaned.columns[rfe.support_]\n",
    "print(f\"Selected 13 Features by RFE: {list(selected_features_RFE)}\")"
   ]
  },
  {
   "cell_type": "code",
   "execution_count": 5,
   "id": "664ca352-233c-46c5-b4f1-1a3ad4a2172b",
   "metadata": {},
   "outputs": [
    {
     "name": "stdout",
     "output_type": "stream",
     "text": [
      "Selected 11 Features by importance scores: ['thal', 'exang', 'ca', 'oldpeak', 'slope', 'cp', 'sex', 'fbs', 'restecg', 'thalach', 'age']\n"
     ]
    }
   ],
   "source": [
    "# 3. Use Chi-Square Test to check feature significance\n",
    "\n",
    "# scale X using min-max scale\n",
    "scaler_minmax = MinMaxScaler()\n",
    "X_scaled_2 = scaler_minmax.fit_transform(X_cleaned)\n",
    "\n",
    "chi2_selector = SelectKBest(score_func=chi2,k='all')\n",
    "chi2_selector.fit(X_scaled_2,y_cleaned)\n",
    "\n",
    "# Get scores and p-values\n",
    "scores = chi2_selector.scores_\n",
    "p_values = chi2_selector.pvalues_\n",
    "\n",
    "# Combine with feature names\n",
    "chi2_results = pd.DataFrame({\n",
    "    'Feature': X.columns,\n",
    "    'Chi2 Score': scores,\n",
    "    'p-value': p_values\n",
    "}).sort_values(by='Chi2 Score', ascending=False)\n",
    "\n",
    "# keep N top features -> N is chosen to be 9<-\n",
    "selected_features_chi2 = chi2_results['Feature'].head(11).tolist()\n",
    "print(f\"Selected 11 Features by importance scores: {list(selected_features_chi2)}\")"
   ]
  },
  {
   "cell_type": "code",
   "execution_count": 6,
   "id": "a006d656-8a3e-4ab0-8b9d-3691299a7f3c",
   "metadata": {},
   "outputs": [
    {
     "name": "stdout",
     "output_type": "stream",
     "text": [
      "Selected 9 Features by 6 methods: ['thal', 'cp', 'ca', 'sex', 'slope', 'oldpeak', 'fbs', 'thalach', 'exang']\n"
     ]
    }
   ],
   "source": [
    "#4. Select only the most relevant features for modeling. \n",
    "# select most common 9 features out of 6 results of 11 features\n",
    "\n",
    "joined=selected_features_impScores+selected_features_RFE.tolist()+selected_features_chi2\n",
    "counter=Counter(joined)\n",
    "most_common=[item[0] for item in counter.most_common(9)]\n",
    "print(f\"Selected 9 Features by 6 methods: {most_common}\")\n",
    "\n",
    "X_reduced = X_cleaned[most_common]"
   ]
  },
  {
   "cell_type": "code",
   "execution_count": 7,
   "id": "ff19cffc-46fe-4926-be1b-301603c1165e",
   "metadata": {},
   "outputs": [
    {
     "name": "stdout",
     "output_type": "stream",
     "text": [
      "     thal  cp   ca  sex  slope  oldpeak  fbs  thalach  exang\n",
      "0     6.0   1  0.0    1      3      2.3    1      150      0\n",
      "1     3.0   4  3.0    1      2      1.5    0      108      1\n",
      "2     7.0   4  2.0    1      2      2.6    0      129      1\n",
      "3     3.0   3  0.0    1      3      3.5    0      187      0\n",
      "4     3.0   2  0.0    0      1      1.4    0      172      0\n",
      "..    ...  ..  ...  ...    ...      ...  ...      ...    ...\n",
      "297   7.0   4  0.0    0      2      0.2    0      123      1\n",
      "298   7.0   1  0.0    1      2      1.2    0      132      0\n",
      "299   7.0   4  2.0    1      2      3.4    1      141      0\n",
      "300   7.0   4  1.0    1      2      1.2    0      115      1\n",
      "301   3.0   2  1.0    0      2      0.0    0      174      0\n",
      "\n",
      "[297 rows x 9 columns]\n"
     ]
    }
   ],
   "source": [
    "print(X_reduced)"
   ]
  },
  {
   "cell_type": "code",
   "execution_count": null,
   "id": "0750c10a-3689-4adf-a361-9e86d25a7cb5",
   "metadata": {},
   "outputs": [],
   "source": []
  }
 ],
 "metadata": {
  "kernelspec": {
   "display_name": "Python [conda env:base] *",
   "language": "python",
   "name": "conda-base-py"
  },
  "language_info": {
   "codemirror_mode": {
    "name": "ipython",
    "version": 3
   },
   "file_extension": ".py",
   "mimetype": "text/x-python",
   "name": "python",
   "nbconvert_exporter": "python",
   "pygments_lexer": "ipython3",
   "version": "3.12.7"
  }
 },
 "nbformat": 4,
 "nbformat_minor": 5
}
