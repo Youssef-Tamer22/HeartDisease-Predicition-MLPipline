{
 "cells": [
  {
   "cell_type": "code",
   "execution_count": 1,
   "id": "79dade74-b85e-4ad5-9256-e3223adc03be",
   "metadata": {},
   "outputs": [],
   "source": [
    "import numpy as np\n",
    "import pandas as pd\n",
    "\n",
    "from sklearn.model_selection import GridSearchCV, RandomizedSearchCV\n",
    "\n",
    "import warnings\n",
    "warnings.filterwarnings(\"ignore\")"
   ]
  },
  {
   "cell_type": "code",
   "execution_count": 3,
   "id": "abaaa795-bd4d-49bc-9d3a-d1ddf1d8ddc9",
   "metadata": {},
   "outputs": [],
   "source": [
    "%%capture\n",
    "%run \"./04_supervised_learning.ipynb\""
   ]
  },
  {
   "cell_type": "code",
   "execution_count": 5,
   "id": "6f077514-47f2-46c9-a45b-8a3bdae41bd2",
   "metadata": {},
   "outputs": [
    {
     "name": "stdout",
     "output_type": "stream",
     "text": [
      "🔍 GridSearch Best params: {'C': 1, 'max_iter': 100, 'penalty': 'l1', 'solver': 'liblinear'}\n",
      "accuracy of training data = 61.18%\n",
      "accuracy of testing data = 63.33%\n",
      "\n",
      "\n",
      "\n",
      "🎯 RandomSearch Best params: {'solver': 'liblinear', 'penalty': 'l1', 'max_iter': 200, 'C': 1}\n",
      "accuracy of training data = 61.18%\n",
      "accuracy of testing data = 63.33%\n"
     ]
    }
   ],
   "source": [
    "# 1 - Logistic Regression model\n",
    "\n",
    "# Grid Search\n",
    "param_grid = {\n",
    "    'penalty': ['l1', 'l2'],             \n",
    "    'C': [0.1, 1, 10],   \n",
    "    'solver': ['liblinear'],            \n",
    "    'max_iter': [100, 200]              \n",
    "}\n",
    "lr_grid_search = GridSearchCV(\n",
    "    estimator=lrmodel,\n",
    "    param_grid=param_grid,\n",
    "    cv=3,                   # fewer folds = faster\n",
    "    scoring='accuracy',\n",
    "    n_jobs=-1\n",
    ")\n",
    "lr_grid_search.fit(X_train, y_train)\n",
    "print(\"🔍 GridSearch Best params:\", lr_grid_search.best_params_)\n",
    "accuracy_calc(lr_grid_search)\n",
    "print(\"\\n\\n\")\n",
    "# Random Search\n",
    "lr_random_search = RandomizedSearchCV(\n",
    "    estimator=lrmodel,\n",
    "    param_distributions=param_grid,\n",
    "    cv=3,\n",
    "    n_iter=10,\n",
    "    scoring='accuracy',\n",
    "    n_jobs=-1\n",
    ")\n",
    "lr_random_search.fit(X_train, y_train)\n",
    "print(\"🎯 RandomSearch Best params:\", lr_random_search.best_params_)\n",
    "accuracy_calc(lr_random_search)\n"
   ]
  },
  {
   "cell_type": "code",
   "execution_count": 7,
   "id": "826e4e14-741f-4bb0-8a47-31dbd356dd99",
   "metadata": {},
   "outputs": [
    {
     "name": "stdout",
     "output_type": "stream",
     "text": [
      "🔍 Best parameters from GridSearch: {'criterion': 'gini', 'max_depth': 5, 'max_features': 'sqrt', 'min_samples_leaf': 1, 'min_samples_split': 5}\n",
      "accuracy of training data = 73.84%\n",
      "accuracy of testing data = 63.33%\n",
      "\n",
      "\n",
      "\n",
      "Best parameters from RandomSearch: {'min_samples_split': 2, 'min_samples_leaf': 1, 'max_features': 'sqrt', 'max_depth': 5, 'criterion': 'gini'}\n",
      "accuracy of training data = 70.89%\n",
      "accuracy of testing data = 55.00%\n"
     ]
    }
   ],
   "source": [
    "# 2 - Decision Tree model\n",
    "\n",
    "# Grid Search\n",
    "param_grid = {\n",
    "    'criterion': ['gini', 'entropy'],\n",
    "    'max_depth': [5, 10, None],                 \n",
    "    'min_samples_split': [2, 5],\n",
    "    'min_samples_leaf': [1, 2],\n",
    "    'max_features': ['sqrt', None]              \n",
    "}\n",
    "dt_grid_search = GridSearchCV(estimator=dtmodel, param_grid=param_grid, cv=5, scoring='accuracy', n_jobs=-1)\n",
    "dt_grid_search.fit(X_train, y_train)\n",
    "\n",
    "print(\"🔍 Best parameters from GridSearch:\", dt_grid_search.best_params_)\n",
    "accuracy_calc(dt_grid_search)\n",
    "print('\\n\\n')\n",
    "# Random Search\n",
    "dt_random_search = RandomizedSearchCV(estimator=dtmodel, param_distributions=param_grid, cv=3, scoring='accuracy', n_iter=10)\n",
    "dt_random_search.fit(X_train, y_train)\n",
    "\n",
    "print(\"Best parameters from RandomSearch:\", dt_random_search.best_params_)\n",
    "accuracy_calc(dt_random_search)"
   ]
  },
  {
   "cell_type": "code",
   "execution_count": 15,
   "id": "6d60a71e-d475-403b-aadb-5f6b442239db",
   "metadata": {},
   "outputs": [
    {
     "name": "stdout",
     "output_type": "stream",
     "text": [
      "Best parameters from GridSearch: {'bootstrap': True, 'max_depth': 10, 'max_features': 'sqrt', 'min_samples_leaf': 2, 'min_samples_split': 5, 'n_estimators': 100}\n",
      "accuracy of training data = 91.14%\n",
      "accuracy of testing data = 61.67%\n",
      "\n",
      "\n",
      "\n",
      "Best parameters from RandomSearch: {'n_estimators': 300, 'min_samples_split': 5, 'min_samples_leaf': 2, 'max_features': None, 'max_depth': 20, 'bootstrap': True}\n",
      "accuracy of training data = 93.25%\n",
      "accuracy of testing data = 56.67%\n"
     ]
    }
   ],
   "source": [
    "# 3 - Random Forest model\n",
    "\n",
    "    # Grid Search\n",
    "param_grid = {\n",
    "    'n_estimators': [100, 300, 500],             \n",
    "    'max_depth': [10, 20, None],                 \n",
    "    'min_samples_split': [2, 5],                 \n",
    "    'min_samples_leaf': [1, 2],                  \n",
    "    'max_features': ['sqrt', None],              \n",
    "    'bootstrap': [True]                          \n",
    "}\n",
    "\n",
    "\n",
    "rf_grid_search = GridSearchCV(estimator=rfmodel, param_grid=param_grid, cv=3, scoring='accuracy', n_jobs=-1)\n",
    "rf_grid_search.fit(X_train, y_train)\n",
    "\n",
    "print(\"Best parameters from GridSearch:\", rf_grid_search.best_params_)\n",
    "accuracy_calc(rf_grid_search)\n",
    "\n",
    "print(\"\\n\\n\")\n",
    "\n",
    "# Random Search\n",
    "rf_random_search = RandomizedSearchCV(estimator=rfmodel, param_distributions=param_grid, cv=3, scoring='accuracy', n_iter=10)\n",
    "rf_random_search.fit(X_train, y_train)\n",
    "\n",
    "print(\"Best parameters from RandomSearch:\", rf_random_search.best_params_)\n",
    "accuracy_calc(rf_random_search)"
   ]
  },
  {
   "cell_type": "code",
   "execution_count": 9,
   "id": "f884acc8-d6e7-4d35-8abb-9ea780645063",
   "metadata": {},
   "outputs": [
    {
     "name": "stdout",
     "output_type": "stream",
     "text": [
      "Baseline model performance:\n",
      "accuracy of training data = 63.71%\n",
      "accuracy of testing data = 58.33%\n",
      "\n",
      "\n",
      "\n",
      "Optimized model using grid search performance:\n",
      "accuracy of training data = 61.18%\n",
      "accuracy of testing data = 63.33%\n",
      "\n",
      "\n",
      "\n",
      "Optimized model using random search performance:\n",
      "accuracy of training data = 61.18%\n",
      "accuracy of testing data = 63.33%\n",
      "\n",
      "\n",
      "\n",
      "Model with highest testing accuracy is: 'Optimized Logistic RegressionModel using random search' with testing accuracy = 63.33%\n"
     ]
    }
   ],
   "source": [
    "#Compare optimized models with baseline performance.\n",
    "# 1 - Logistic Regression model\n",
    "print(\"Baseline model performance:\")\n",
    "accuracy_calc(lrmodel)\n",
    "\n",
    "print(\"\\n\\n\")\n",
    "\n",
    "print(\"Optimized model using grid search performance:\")\n",
    "accuracy_calc(lr_grid_search)\n",
    "\n",
    "print(\"\\n\\n\")\n",
    "\n",
    "print(\"Optimized model using random search performance:\")\n",
    "accuracy_calc(lr_random_search)\n",
    "\n",
    "print(\"\\n\\n\")\n",
    "\n",
    "test_acc_basline    =   accuracy_score(y_test, lrmodel.predict(X_test))\n",
    "test_acc_grid       =   accuracy_score(y_test, lr_grid_search.predict(X_test))\n",
    "test_acc_random     =   accuracy_score(y_test, lr_random_search.predict(X_test))\n",
    "\n",
    "highest_acc_lr = 0\n",
    "\n",
    "if test_acc_basline > test_acc_grid:\n",
    "    lr_model = \"Baseline Logistic Regression Model\"\n",
    "    highest_acc_lr = test_acc_basline\n",
    "elif test_acc_grid > test_acc_random:\n",
    "    lr_model = \"Optimized Logistic Regression Model using grid search\"\n",
    "    highest_acc_lr = test_acc_grid\n",
    "else:\n",
    "    lr_model = \"Optimized Logistic RegressionModel using random search\"\n",
    "    highest_acc_lr = test_acc_random\n",
    "\n",
    "print(f\"Model with highest testing accuracy is: '{lr_model}' with testing accuracy = {highest_acc_lr*100:.2f}%\")"
   ]
  },
  {
   "cell_type": "code",
   "execution_count": 11,
   "id": "23e4f13e-b0b0-4351-9155-beac66d5f7b0",
   "metadata": {},
   "outputs": [
    {
     "name": "stdout",
     "output_type": "stream",
     "text": [
      "Baseline model performance:\n",
      "accuracy of training data = 100.00%\n",
      "accuracy of testing data = 48.33%\n",
      "\n",
      "\n",
      "\n",
      "Optimized model using grid search performance:\n",
      "accuracy of training data = 73.84%\n",
      "accuracy of testing data = 63.33%\n",
      "\n",
      "\n",
      "\n",
      "Optimized model using random search performance:\n",
      "accuracy of training data = 70.89%\n",
      "accuracy of testing data = 55.00%\n",
      "\n",
      "\n",
      "\n",
      "Model with highest testing accuracy is: 'Optimized Decision Tree Model using grid search' with testing accuracy = 63.33%\n"
     ]
    }
   ],
   "source": [
    "# 2 - Decision Tree model\n",
    "print(\"Baseline model performance:\")\n",
    "accuracy_calc(dtmodel)\n",
    "\n",
    "print(\"\\n\\n\")\n",
    "\n",
    "print(\"Optimized model using grid search performance:\")\n",
    "accuracy_calc(dt_grid_search)\n",
    "\n",
    "print(\"\\n\\n\")\n",
    "\n",
    "print(\"Optimized model using random search performance:\")\n",
    "accuracy_calc(dt_random_search)\n",
    "\n",
    "print(\"\\n\\n\")\n",
    "\n",
    "test_acc_basline    =   accuracy_score(y_test, dtmodel.predict(X_test))\n",
    "test_acc_grid       =   accuracy_score(y_test, dt_grid_search.predict(X_test))\n",
    "test_acc_random     =   accuracy_score(y_test, dt_random_search.predict(X_test))\n",
    "\n",
    "highest_acc_dt = 0\n",
    "\n",
    "if test_acc_basline > test_acc_grid:\n",
    "    dt_model = \"Baseline Decision Tree Model\"\n",
    "    highest_acc_dt = test_acc_basline\n",
    "elif test_acc_grid > test_acc_random:\n",
    "    dt_model = \"Optimized Decision Tree Model using grid search\"\n",
    "    highest_acc_dt = test_acc_grid\n",
    "else:\n",
    "    dt_model = \"Optimized Decision Tree Model using random search\"\n",
    "    highest_acc_dt = test_acc_random\n",
    "\n",
    "print(f\"Model with highest testing accuracy is: '{dt_model}' with testing accuracy = {highest_acc_dt*100:.2f}%\")"
   ]
  },
  {
   "cell_type": "code",
   "execution_count": 17,
   "id": "9c465067-15da-4ac7-952e-5f85c99811b7",
   "metadata": {},
   "outputs": [
    {
     "name": "stdout",
     "output_type": "stream",
     "text": [
      "Baseline model performance:\n",
      "accuracy of training data = 100.00%\n",
      "accuracy of testing data = 58.33%\n",
      "\n",
      "\n",
      "\n",
      "Optimized model using grid search performance:\n",
      "accuracy of training data = 91.14%\n",
      "accuracy of testing data = 61.67%\n",
      "\n",
      "\n",
      "\n",
      "Optimized model using random search performance:\n",
      "accuracy of training data = 93.25%\n",
      "accuracy of testing data = 56.67%\n",
      "\n",
      "\n",
      "\n",
      "Model with highest testing accuracy is: 'Optimized Random Forest Model using grid search' with testing accuracy = 61.67%\n"
     ]
    }
   ],
   "source": [
    "# 3 - Random Forest model\n",
    "print(\"Baseline model performance:\")\n",
    "accuracy_calc(rfmodel)\n",
    "\n",
    "print(\"\\n\\n\")\n",
    "\n",
    "print(\"Optimized model using grid search performance:\")\n",
    "accuracy_calc(rf_grid_search)\n",
    "\n",
    "print(\"\\n\\n\")\n",
    "\n",
    "print(\"Optimized model using random search performance:\")\n",
    "accuracy_calc(rf_random_search)\n",
    "\n",
    "print(\"\\n\\n\")\n",
    "\n",
    "test_acc_basline    =   accuracy_score(y_test, rfmodel.predict(X_test))\n",
    "test_acc_grid       =   accuracy_score(y_test, rf_grid_search.predict(X_test))\n",
    "test_acc_random     =   accuracy_score(y_test, rf_random_search.predict(X_test))\n",
    "\n",
    "highest_acc_rf = 0\n",
    "\n",
    "if test_acc_basline > test_acc_grid:\n",
    "    rf_model = \"Baseline Random Forest Model\"\n",
    "    highest_acc_rf = test_acc_basline\n",
    "elif test_acc_grid > test_acc_random:\n",
    "    rf_model = \"Optimized Random Forest Model using grid search\"\n",
    "    highest_acc_rf = test_acc_grid\n",
    "else:\n",
    "    rf_model = \"Optimized Random Forest Model using random search\"\n",
    "    highest_acc_rf = test_acc_random\n",
    "\n",
    "print(f\"Model with highest testing accuracy is: '{rf_model}' with testing accuracy = {highest_acc_rf*100:.2f}%\")"
   ]
  },
  {
   "cell_type": "code",
   "execution_count": 21,
   "id": "b3f05ef1-5394-4bd5-bcbf-bee42cb1863a",
   "metadata": {},
   "outputs": [
    {
     "name": "stdout",
     "output_type": "stream",
     "text": [
      "model with highest testing accuracy is 'Optimized Decision Tree Model using grid search' with testing accuracy = 63.33%\n"
     ]
    }
   ],
   "source": [
    "# get model with highest testing accuracy\n",
    "\n",
    "if highest_acc_lr > highest_acc_dt and highest_acc_lr > highest_acc_rf:\n",
    "    print(f\"model with highest testing accuracy is '{lr_model}' with testing accuracy = {highest_acc_lr*100:.2f}%\")\n",
    "    \n",
    "elif highest_acc_dt > highest_acc_rf:\n",
    "    print(f\"model with highest testing accuracy is '{dt_model}' with testing accuracy = {highest_acc_dt*100:.2f}%\")\n",
    "    \n",
    "else:\n",
    "    print(f\"model with highest testing accuracy is '{rf_model}' with testing accuracy = {highest_acc_rf*100:.2f}%\")"
   ]
  },
  {
   "cell_type": "code",
   "execution_count": null,
   "id": "40deec10-e4b0-4504-afdc-0182f9c9d642",
   "metadata": {},
   "outputs": [],
   "source": []
  }
 ],
 "metadata": {
  "kernelspec": {
   "display_name": "Python [conda env:base] *",
   "language": "python",
   "name": "conda-base-py"
  },
  "language_info": {
   "codemirror_mode": {
    "name": "ipython",
    "version": 3
   },
   "file_extension": ".py",
   "mimetype": "text/x-python",
   "name": "python",
   "nbconvert_exporter": "python",
   "pygments_lexer": "ipython3",
   "version": "3.12.7"
  }
 },
 "nbformat": 4,
 "nbformat_minor": 5
}
